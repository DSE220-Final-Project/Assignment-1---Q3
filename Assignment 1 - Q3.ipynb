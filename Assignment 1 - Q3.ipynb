{
 "cells": [
  {
   "cell_type": "markdown",
   "metadata": {
    "collapsed": true
   },
   "source": [
    "## IRI Data - Q3"
   ]
  },
  {
   "cell_type": "markdown",
   "metadata": {},
   "source": [
    "Problem #3\n",
    "\n",
    "The IRI data is set available on the AWS instance.  Several additional documents describing the data set and pointing to additional Bibliography are made available (including the white paper: Bronnenberg, Bart J., Kruger, Michael W, and Mela, Carl F. The IRI Marketing Dataset.). <br /> \n",
    "<br />\n",
    "Getting to know this data set is time well spent as it will be very applicable towards the Fina project.  The data set is of medium size and complexity – however understanding the data and how file/folders/datasets related to each other will be of crucial importance for creating an appropriate training data set.  <br />\n",
    "<br />\n",
    "The data set has been purchase by UCSD, it is only for internal use and comes with restrictions.  Please read and follow the NDA specified at the very end of the “IRI_database_technical_appendix” document provided with the data set. <br />\n",
    "<br /> \n",
    "I order to answer the questions below – document and describe what kind of data preparation and cleaning techniques did you have to apply?  What kinds of anomalies and missing data did you encounter?  Document how what assumption you made and how you approach the issues.\n",
    "1. What are the most popular item(s) for a chosen product/category?<br />\n",
    "2. How does the popularity of an item change with the cost associated with it for a chosen year?<br />\n",
    "3. How is the popularity affected over the years? <br />\n",
    "<br />\n",
    "Extra credit: \n",
    "Apply K-nearest neighbor algorithms to a chose subset of data for a specific set of products/categories. "
   ]
  },
  {
   "cell_type": "code",
   "execution_count": 1,
   "metadata": {
    "collapsed": true
   },
   "outputs": [],
   "source": [
    "import pandas as pd\n",
    "import numpy as np"
   ]
  },
  {
   "cell_type": "code",
   "execution_count": 2,
   "metadata": {
    "collapsed": false
   },
   "outputs": [
    {
     "name": "stdout",
     "output_type": "stream",
     "text": [
      "/Users/Deepthi/Documents/DSE/Q3_DSE220 - Machine Learning/IRI Data - Project/Data\n"
     ]
    }
   ],
   "source": [
    "## Get data for Salty snacks\n",
    "%cd /Users/Deepthi/Documents/DSE/Q3_DSE220 - Machine Learning/IRI Data - Project/Data"
   ]
  },
  {
   "cell_type": "markdown",
   "metadata": {},
   "source": [
    "#### Get data"
   ]
  },
  {
   "cell_type": "markdown",
   "metadata": {},
   "source": [
    "##### Store level weekly data"
   ]
  },
  {
   "cell_type": "code",
   "execution_count": 3,
   "metadata": {
    "collapsed": false
   },
   "outputs": [],
   "source": [
    "# Considering only 1 year for the analysis\n",
    "store_data = {}\n",
    "# yrs = ['09','10','11']\n",
    "# yrs = ['01','02']\n",
    "yrs = ['11']\n",
    "import os\n",
    "for i in yrs:\n",
    "    tmp = 'store_yr_'+str(i)\n",
    "    filepath = '/Users/Deepthi/Documents/DSE/Q3_DSE220 - Machine Learning/IRI Data - Project/Data'+'/Year'+str(i)+'/saltsnck/'\n",
    "    filename = os.listdir(filepath)\n",
    "    file1 = filter(lambda filename: filename.startswith(\"saltsnck_drug\"),filename)\n",
    "    store_data[\"year\"+str(i)+'drug'] = pd.read_fwf(filepath+'/'+file1[0])\n",
    "    store_data[\"year\"+str(i)+'drug']['yr'] = str(i)\n",
    "    store_data[\"year\"+str(i)+'drug']['store_type'] = 'drug'\n",
    "    file2 = filter(lambda filename: filename.startswith(\"saltsnck_g\"),filename)\n",
    "    store_data[\"year\"+str(i)+'groc'] = pd.read_fwf(filepath+'/'+file2[0])\n",
    "    store_data[\"year\"+str(i)+'groc']['yr'] = str(i)\n",
    "    store_data[\"year\"+str(i)+'groc']['store_type'] = 'groc'"
   ]
  },
  {
   "cell_type": "code",
   "execution_count": 4,
   "metadata": {
    "collapsed": false
   },
   "outputs": [
    {
     "data": {
      "text/plain": [
       "['year11drug', 'year11groc']"
      ]
     },
     "execution_count": 4,
     "metadata": {},
     "output_type": "execute_result"
    }
   ],
   "source": [
    "store_data.keys()"
   ]
  },
  {
   "cell_type": "markdown",
   "metadata": {},
   "source": [
    "##### Product attributes\n",
    "\n",
    "The improved file format, which incorporates further information, is prod_category.xls, 16 There are three sets of files.<br /> \n",
    "1. The first set of files are applicable to years 1-6 and are provided in a directory called “parsed stub files”.<br /> \n",
    "2. The second set of files are applicable to year 7 and are provided in a directory called “parsed stub files 2007”.<br /> \n",
    "3. The third set of files are applicable to years 8-11 are are provided in a directory called “parsed stub files 2008-2011”"
   ]
  },
  {
   "cell_type": "code",
   "execution_count": 5,
   "metadata": {
    "collapsed": false
   },
   "outputs": [],
   "source": [
    "# Get the product category details for the analysis\n",
    "\n",
    "df1 = pd.ExcelFile('parsed stub files/prod_saltsnck.xls')\n",
    "prod_cat_1 = df1.parse('Sheet1')\n",
    "\n",
    "df2 = pd.ExcelFile('parsed stub files 2007/prod_saltsnck.xlsx')\n",
    "prod_cat_2 = df2.parse('Sheet1')\n",
    "\n",
    "# We will be using only prod_cat_3 for this analysis\n",
    "df2 = pd.ExcelFile('parsed stub files 2008-2011/prod11_saltsnck.xlsx')\n",
    "prod_cat_3 = df2.parse('Sheet1')"
   ]
  },
  {
   "cell_type": "markdown",
   "metadata": {},
   "source": [
    "##### Q1) What are the most popular item(s) for a chosen product/category?\n",
    "\n",
    "I looked mostly at the number of units sold in the year 2011 as a proxy for popularity of the product. \n",
    "\n",
    "REGULAR POTATO CHIP IN A BAG is the most popular item.\n",
    "\n",
    "Couldn't look into FAT CONTENT, COOKING METHOD, SALT/SODIUM CONTENT or TYPE OF CUT because of missing data."
   ]
  },
  {
   "cell_type": "code",
   "execution_count": 6,
   "metadata": {
    "collapsed": true
   },
   "outputs": [],
   "source": [
    "# For this we will consider the most recent year 2011.\n",
    "\n",
    "# Combine data for drugstores and grocery stores\n",
    "frames = [store_data['year11drug'], store_data['year11groc']]\n",
    "data_2011 = pd.concat(frames)"
   ]
  },
  {
   "cell_type": "code",
   "execution_count": 7,
   "metadata": {
    "collapsed": false
   },
   "outputs": [],
   "source": [
    "# Merge the store data with product category data\n",
    "data_2011_with_cat = pd.merge(data_2011, prod_cat_3, how='left', on=['ITEM', 'ITEM'])"
   ]
  },
  {
   "cell_type": "code",
   "execution_count": 38,
   "metadata": {
    "collapsed": false
   },
   "outputs": [
    {
     "data": {
      "text/html": [
       "<div>\n",
       "<table border=\"1\" class=\"dataframe\">\n",
       "  <thead>\n",
       "    <tr style=\"text-align: right;\">\n",
       "      <th></th>\n",
       "      <th>UNITS</th>\n",
       "      <th>DOLLARS</th>\n",
       "    </tr>\n",
       "    <tr>\n",
       "      <th>PRODUCT TYPE</th>\n",
       "      <th></th>\n",
       "      <th></th>\n",
       "    </tr>\n",
       "  </thead>\n",
       "  <tbody>\n",
       "    <tr>\n",
       "      <th>POTATO CHIP</th>\n",
       "      <td>233266784</td>\n",
       "      <td>5.272667e+08</td>\n",
       "    </tr>\n",
       "    <tr>\n",
       "      <th>TORTILLA CHIP</th>\n",
       "      <td>121969958</td>\n",
       "      <td>3.131993e+08</td>\n",
       "    </tr>\n",
       "    <tr>\n",
       "      <th>RTE POPCORN</th>\n",
       "      <td>109442905</td>\n",
       "      <td>2.471672e+08</td>\n",
       "    </tr>\n",
       "    <tr>\n",
       "      <th>PRETZEL</th>\n",
       "      <td>56451920</td>\n",
       "      <td>1.321804e+08</td>\n",
       "    </tr>\n",
       "    <tr>\n",
       "      <th>CHEESE SNACK</th>\n",
       "      <td>42998080</td>\n",
       "      <td>8.853130e+07</td>\n",
       "    </tr>\n",
       "  </tbody>\n",
       "</table>\n",
       "</div>"
      ],
      "text/plain": [
       "                   UNITS       DOLLARS\n",
       "PRODUCT TYPE                          \n",
       "POTATO CHIP    233266784  5.272667e+08\n",
       "TORTILLA CHIP  121969958  3.131993e+08\n",
       "RTE POPCORN    109442905  2.471672e+08\n",
       "PRETZEL         56451920  1.321804e+08\n",
       "CHEESE SNACK    42998080  8.853130e+07"
      ]
     },
     "execution_count": 38,
     "metadata": {},
     "output_type": "execute_result"
    }
   ],
   "source": [
    "# Get the most popular product \n",
    "# Filtered out only required columns as using the entire table was causing the system to crash\n",
    "temp = data_2011_with_cat[['PRODUCT TYPE','PACKAGE','FLAVOR/SCENT','FAT CONTENT','COOKING METHOD','SALT/SODIUM CONTENT','TYPE OF CUT','UNITS','DOLLARS']]\n",
    "temp.groupby(['PRODUCT TYPE'])['UNITS','DOLLARS'].sum().sort(['UNITS','DOLLARS'],ascending = [0,0]).head(5)"
   ]
  },
  {
   "cell_type": "code",
   "execution_count": 43,
   "metadata": {
    "collapsed": false
   },
   "outputs": [
    {
     "data": {
      "text/html": [
       "<div>\n",
       "<table border=\"1\" class=\"dataframe\">\n",
       "  <thead>\n",
       "    <tr style=\"text-align: right;\">\n",
       "      <th></th>\n",
       "      <th>UNITS</th>\n",
       "      <th>DOLLARS</th>\n",
       "    </tr>\n",
       "    <tr>\n",
       "      <th>PACKAGE</th>\n",
       "      <th></th>\n",
       "      <th></th>\n",
       "    </tr>\n",
       "  </thead>\n",
       "  <tbody>\n",
       "    <tr>\n",
       "      <th>BAG</th>\n",
       "      <td>223955809</td>\n",
       "      <td>5.038678e+08</td>\n",
       "    </tr>\n",
       "    <tr>\n",
       "      <th>BAG IN BOX</th>\n",
       "      <td>3110279</td>\n",
       "      <td>8.451179e+06</td>\n",
       "    </tr>\n",
       "    <tr>\n",
       "      <th>BOX</th>\n",
       "      <td>2838465</td>\n",
       "      <td>7.095764e+06</td>\n",
       "    </tr>\n",
       "    <tr>\n",
       "      <th>BAG IN BAG</th>\n",
       "      <td>813948</td>\n",
       "      <td>2.321228e+06</td>\n",
       "    </tr>\n",
       "    <tr>\n",
       "      <th>BAG IN BAG INDV WRAP</th>\n",
       "      <td>711263</td>\n",
       "      <td>1.707785e+06</td>\n",
       "    </tr>\n",
       "  </tbody>\n",
       "</table>\n",
       "</div>"
      ],
      "text/plain": [
       "                          UNITS       DOLLARS\n",
       "PACKAGE                                      \n",
       "BAG                   223955809  5.038678e+08\n",
       "BAG IN BOX              3110279  8.451179e+06\n",
       "BOX                     2838465  7.095764e+06\n",
       "BAG IN BAG               813948  2.321228e+06\n",
       "BAG IN BAG INDV WRAP     711263  1.707785e+06"
      ]
     },
     "execution_count": 43,
     "metadata": {},
     "output_type": "execute_result"
    }
   ],
   "source": [
    "# Now that we know that 'Potato Chip' is the most popular product, I wanted to understand if we see any preference in packaging\n",
    "temp[temp['PRODUCT TYPE']=='POTATO CHIP'].groupby(['PACKAGE'])['UNITS','DOLLARS'].sum().sort(['UNITS','DOLLARS'],ascending = [0,0]).head(5)"
   ]
  },
  {
   "cell_type": "code",
   "execution_count": 51,
   "metadata": {
    "collapsed": false
   },
   "outputs": [
    {
     "data": {
      "text/html": [
       "<div>\n",
       "<table border=\"1\" class=\"dataframe\">\n",
       "  <thead>\n",
       "    <tr style=\"text-align: right;\">\n",
       "      <th></th>\n",
       "      <th>UNITS</th>\n",
       "      <th>DOLLARS</th>\n",
       "    </tr>\n",
       "    <tr>\n",
       "      <th>FLAVOR/SCENT</th>\n",
       "      <th></th>\n",
       "      <th></th>\n",
       "    </tr>\n",
       "  </thead>\n",
       "  <tbody>\n",
       "    <tr>\n",
       "      <th>REGULAR</th>\n",
       "      <td>65540217</td>\n",
       "      <td>1.463151e+08</td>\n",
       "    </tr>\n",
       "    <tr>\n",
       "      <th>CLASSIC</th>\n",
       "      <td>22288386</td>\n",
       "      <td>5.115768e+07</td>\n",
       "    </tr>\n",
       "    <tr>\n",
       "      <th>BARBECUE</th>\n",
       "      <td>19855618</td>\n",
       "      <td>4.056266e+07</td>\n",
       "    </tr>\n",
       "    <tr>\n",
       "      <th>ORIGINAL</th>\n",
       "      <td>16790944</td>\n",
       "      <td>4.480575e+07</td>\n",
       "    </tr>\n",
       "    <tr>\n",
       "      <th>SOUR CREAM &amp; ONION</th>\n",
       "      <td>14981454</td>\n",
       "      <td>3.142769e+07</td>\n",
       "    </tr>\n",
       "  </tbody>\n",
       "</table>\n",
       "</div>"
      ],
      "text/plain": [
       "                       UNITS       DOLLARS\n",
       "FLAVOR/SCENT                              \n",
       "REGULAR             65540217  1.463151e+08\n",
       "CLASSIC             22288386  5.115768e+07\n",
       "BARBECUE            19855618  4.056266e+07\n",
       "ORIGINAL            16790944  4.480575e+07\n",
       "SOUR CREAM & ONION  14981454  3.142769e+07"
      ]
     },
     "execution_count": 51,
     "metadata": {},
     "output_type": "execute_result"
    }
   ],
   "source": [
    "# Knowing that 'Potato chip' in a bag is the most preferred product, I wanted to see if there is any preference for flavour\n",
    "temp[(temp['PRODUCT TYPE']=='POTATO CHIP')&(temp['PACKAGE']=='BAG')].groupby(['FLAVOR/SCENT'])['UNITS','DOLLARS'].sum().sort(['UNITS','DOLLARS'],ascending = [0,0]).head(5)"
   ]
  },
  {
   "cell_type": "markdown",
   "metadata": {},
   "source": [
    "##### Q2) How does the popularity of an item change with the cost associated with it for a chosen year?\n",
    "\n",
    "To understand how popularity of an item changes with cost associated with it, I took the data at the most granular level, SKU-week-store level and calculated the cost per unit. Then calculated the correlation of units and cost.\n",
    "\n",
    "In this exercise, I found that popularity decreases as the cost associated with the product increases."
   ]
  },
  {
   "cell_type": "code",
   "execution_count": 56,
   "metadata": {
    "collapsed": false
   },
   "outputs": [],
   "source": [
    "## Get Dollar/Unit at SKU-week-store level\n",
    "temp_with_dol_per_unit = data_2011_with_cat[['IRI_KEY','WEEK','L9','UNITS','DOLLARS']].copy()\n",
    "temp_with_dol_per_unit['DOL_PER_UNIT'] = temp_with_dol_per_unit['DOLLARS']/temp_with_dol_per_unit['UNITS']"
   ]
  },
  {
   "cell_type": "code",
   "execution_count": 58,
   "metadata": {
    "collapsed": false
   },
   "outputs": [
    {
     "data": {
      "text/html": [
       "<div>\n",
       "<table border=\"1\" class=\"dataframe\">\n",
       "  <thead>\n",
       "    <tr style=\"text-align: right;\">\n",
       "      <th></th>\n",
       "      <th>UNITS</th>\n",
       "      <th>DOL_PER_UNIT</th>\n",
       "    </tr>\n",
       "  </thead>\n",
       "  <tbody>\n",
       "    <tr>\n",
       "      <th>UNITS</th>\n",
       "      <td>1.000000</td>\n",
       "      <td>-0.141734</td>\n",
       "    </tr>\n",
       "    <tr>\n",
       "      <th>DOL_PER_UNIT</th>\n",
       "      <td>-0.141734</td>\n",
       "      <td>1.000000</td>\n",
       "    </tr>\n",
       "  </tbody>\n",
       "</table>\n",
       "</div>"
      ],
      "text/plain": [
       "                 UNITS  DOL_PER_UNIT\n",
       "UNITS         1.000000     -0.141734\n",
       "DOL_PER_UNIT -0.141734      1.000000"
      ]
     },
     "execution_count": 58,
     "metadata": {},
     "output_type": "execute_result"
    }
   ],
   "source": [
    "temp_with_dol_per_unit[['UNITS','DOL_PER_UNIT']].corr()"
   ]
  },
  {
   "cell_type": "markdown",
   "metadata": {},
   "source": [
    "##### Q3) How is the popularity affected over the years?"
   ]
  },
  {
   "cell_type": "code",
   "execution_count": null,
   "metadata": {
    "collapsed": true
   },
   "outputs": [],
   "source": []
  }
 ],
 "metadata": {
  "kernelspec": {
   "display_name": "Python 2",
   "language": "python",
   "name": "python2"
  },
  "language_info": {
   "codemirror_mode": {
    "name": "ipython",
    "version": 2
   },
   "file_extension": ".py",
   "mimetype": "text/x-python",
   "name": "python",
   "nbconvert_exporter": "python",
   "pygments_lexer": "ipython2",
   "version": "2.7.11"
  }
 },
 "nbformat": 4,
 "nbformat_minor": 0
}
